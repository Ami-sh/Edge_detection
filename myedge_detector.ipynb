{
 "cells": [
  {
   "cell_type": "code",
   "execution_count": 6,
   "metadata": {},
   "outputs": [],
   "source": [
    "import cv2 as cv\n",
    "import numpy as np\n",
    "import random\n",
    "import math\n"
   ]
  },
  {
   "cell_type": "markdown",
   "metadata": {},
   "source": [
    "The below code is gaussianblur which is used to smoothen the image slightly and convert the image to greyscale"
   ]
  },
  {
   "cell_type": "code",
   "execution_count": 7,
   "metadata": {},
   "outputs": [],
   "source": [
    "#question 1c\n",
    "def gaussianBlur(img):\n",
    "\n",
    "        img = cv.cvtColor(img, cv.COLOR_BGR2GRAY)\n",
    "        h = img.shape[0]\n",
    "        w = img.shape[1]\n",
    "\n",
    "        kernel_x = 5\n",
    "        kernel_y = 5\n",
    "\n",
    "        h = h\n",
    "        w = w \n",
    "\n",
    "        for i in range(0,h-5,1):\n",
    "            for j in range(0,w-5,1):\n",
    "\n",
    "                roi = img[i:i+kernel_y,j:j+kernel_x]\n",
    "                weighted_average = 0\n",
    "\n",
    "                for x in range(5):\n",
    "                    for y in range(5):\n",
    "                         weighted_average = 1/(2*3.14) * math.exp(-((2-x) ** 2 + (2-y) ** 2)/2) * roi[x,y]\n",
    "                          \n",
    "\n",
    "\n",
    "                img[i:i+kernel_y,j:j+kernel_x] = weighted_average * 200\n",
    "        \n",
    "        return img\n",
    "img = cv.imread('/Users/amishgupta/Desktop/Cars.png')   #add the path to your image here.\n",
    "img3 = gaussianBlur(img)\n",
    "cv.imshow(\"image3\", img3)\n",
    "cv.waitKey(1)\n",
    "cv.destroyAllWindows()"
   ]
  },
  {
   "cell_type": "markdown",
   "metadata": {},
   "source": []
  },
  {
   "cell_type": "markdown",
   "metadata": {},
   "source": [
    "The below Code prewitt is an algorithm to detect edge "
   ]
  },
  {
   "cell_type": "code",
   "execution_count": 8,
   "metadata": {
    "scrolled": true
   },
   "outputs": [
    {
     "data": {
      "text/plain": [
       "-1"
      ]
     },
     "execution_count": 8,
     "metadata": {},
     "output_type": "execute_result"
    }
   ],
   "source": [
    "\n",
    "\n",
    "\n",
    "\n",
    "#Question 1d - Prewitt \n",
    "def prewitt(img):\n",
    "    \n",
    "    h = img.shape[0]\n",
    "    w = img.shape[1]\n",
    "    \n",
    "    img= gaussianBlur(img)\n",
    "    \n",
    "\n",
    "    kx=np.array([[-1,0,1],[-1,0,1],[-1,0,1]])\n",
    "    ky=np.array([[1,1,1],[0,0,0],[-1,-1,-1]])\n",
    "    a=[]\n",
    "    val=0\n",
    "    kal=0\n",
    "    iter1=0\n",
    "    for i in range(0,h-4,1):\n",
    "        for j in range(0,w-4,1):\n",
    "            roi = img[i:i+3,j:j+3] \n",
    "            Gx=0\n",
    "            Gy=0\n",
    "            val=0\n",
    "            for x in range(0,3):\n",
    "                for y in range(0,3):\n",
    "                    Gx=Gx+kx[x][y]*roi[x][y]\n",
    "                    Gy=Gy+ky[x][y]*roi[x][y]\n",
    "            val=(Gx**2+Gy**2)**(1/2)\n",
    "            if (val>=66):  \n",
    "                img[i][j]=255\n",
    "            else :\n",
    "                img[i][j]=0\n",
    "            \n",
    "    return (img)\n",
    "\n",
    "img4=  prewitt(img)\n",
    "cv.imshow(\"image4\", img4)\n",
    "\n",
    "cv.waitKey(1)\n",
    "\n",
    "\n",
    "            \n",
    "    \n",
    "    "
   ]
  },
  {
   "cell_type": "markdown",
   "metadata": {},
   "source": [
    "The below Code Sobel is an algorithm to detect edge."
   ]
  },
  {
   "cell_type": "code",
   "execution_count": null,
   "metadata": {},
   "outputs": [],
   "source": [
    "#Question 1d - sobel\n",
    "def sobel(img):\n",
    "    \n",
    "    h = img.shape[0]\n",
    "    w = img.shape[1]\n",
    "    \n",
    "    img= gaussianBlur(img)\n",
    "    \n",
    "\n",
    "    kx=np.array([[-1,0,1],[-2,0,2],[-1,0,1]])\n",
    "    ky=np.array([[1,2,1],[0,0,0],[-1,-2,-1]])\n",
    "    a=[]\n",
    "    val=0\n",
    "    kal=0\n",
    "    iter1=0\n",
    "    for i in range(0,h-4,1):\n",
    "        for j in range(0,w-4,1):\n",
    "            roi = img[i:i+3,j:j+3] \n",
    "            Gx=0\n",
    "            Gy=0\n",
    "            val=0\n",
    "            for x in range(0,3):\n",
    "                for y in range(0,3):\n",
    "                    Gx=Gx+kx[x][y]*roi[x][y]\n",
    "                    Gy=Gy+ky[x][y]*roi[x][y]\n",
    "            val=(Gx**2+Gy**2)**(1/2)\n",
    "            if (val>=66):\n",
    "                img[i][j]=255\n",
    "            else :\n",
    "                img[i][j]=0\n",
    "            print(val)\n",
    "    return (img)\n",
    "\n",
    "img5=  sobel(img)\n",
    "cv.imshow(\"image5\", img5)\n",
    "\n",
    "cv.waitKey(1)\n",
    "\n",
    "\n",
    "            \n",
    "    \n",
    "    "
   ]
  },
  {
   "cell_type": "code",
   "execution_count": null,
   "metadata": {},
   "outputs": [],
   "source": []
  },
  {
   "cell_type": "code",
   "execution_count": null,
   "metadata": {},
   "outputs": [],
   "source": []
  },
  {
   "cell_type": "markdown",
   "metadata": {},
   "source": [
    "The Below code is irrelevant , It is an algorithm that blurs the image (A bad algorithm)"
   ]
  },
  {
   "cell_type": "code",
   "execution_count": null,
   "metadata": {},
   "outputs": [],
   "source": [
    "\n",
    "\n",
    "\n",
    "\n",
    "#question 1b\n",
    "def movAverageFilter(img):\n",
    "\n",
    "    img = cv.cvtColor(img, cv.COLOR_BGR2GRAY)\n",
    "    h = img.shape[0]\n",
    "    w = img.shape[1]\n",
    "\n",
    "    kernel_x = 5\n",
    "    kernel_y = 5\n",
    "\n",
    "    h = h - h%kernel_y\n",
    "    w = w - h%kernel_x\n",
    "\n",
    "    for i in range(0,h-1,1):\n",
    "        for j in range(0,w-1,1):\n",
    "\n",
    "            roi = img[i:i+kernel_y,j:j+kernel_x]\n",
    "            mean = np.sum(roi)/25\n",
    "\n",
    "            img[i:i+kernel_y,j:j+kernel_x] = mean\n",
    "#     cv.imwrite('test_output2.jpeg',img)\n",
    "    cv.imshow('2',img)\n",
    "    print(type(mean))\n",
    "\n",
    "img = cv.imread('/Users/amishgupta/Desktop/Cars.png')\n",
    "img2 = movAverageFilter(img)\n",
    "\n",
    "\n",
    "cv.waitKey(1)\n",
    "cv.destroyAllWindows()\n",
    "\n"
   ]
  }
 ],
 "metadata": {
  "kernelspec": {
   "display_name": "Python 3",
   "language": "python",
   "name": "python3"
  },
  "language_info": {
   "codemirror_mode": {
    "name": "ipython",
    "version": 3
   },
   "file_extension": ".py",
   "mimetype": "text/x-python",
   "name": "python",
   "nbconvert_exporter": "python",
   "pygments_lexer": "ipython3",
   "version": "3.8.5"
  }
 },
 "nbformat": 4,
 "nbformat_minor": 4
}
